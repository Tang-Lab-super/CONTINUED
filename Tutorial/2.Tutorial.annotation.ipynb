{
 "cells": [
  {
   "cell_type": "code",
   "execution_count": 21,
   "id": "9b7671b3-c5e8-4ac5-8343-64023ec12a5a",
   "metadata": {},
   "outputs": [],
   "source": [
    "import os\n",
    "import numpy as np\n",
    "from scipy.stats import gaussian_kde\n",
    "from CONTINUED.annotation import *\n",
    "import pandas as pd\n",
    "\n",
    "os.chdir('/data/yuchen_data/desi_scripts/data/annotation_data/result/')\n",
    "\n",
    "work_dir = '/data/yuchen_data/desi_scripts/data/annotation_data/combined'\n",
    "output_prefix = '/data/yuchen_data/desi_scripts/data/annotation_data/result/colon_cancer_desi_'\n",
    "\n",
    "input_lipid = '/data/yuchen_data/desi_scripts/data/annotation_data/20210930.Lipid.8_samples.uniq.txt'\n",
    "input_small_mol = '/data/yuchen_data/desi_scripts/data/annotation_data/20220107.combined.small_molecule.neg.uniq.txt'\n",
    "\n",
    "input_sample_list = '/data/yuchen_data/desi_scripts/data/annotation_data/sample.list.selected.txt'\n",
    "mass_cutoff = 0.02\n"
   ]
  },
  {
   "cell_type": "markdown",
   "id": "090b3905-e4c0-49c4-9dcb-b7be11353314",
   "metadata": {},
   "source": [
    "## we first parse DESI data and LC-MS data"
   ]
  },
  {
   "cell_type": "code",
   "execution_count": 13,
   "id": "cae79c6b-3935-4550-9e88-d614af12f44e",
   "metadata": {},
   "outputs": [],
   "source": [
    "sample_mass, mass_sample, mass = Parsing_Mass_Table(input_sample_list, work_dir)"
   ]
  },
  {
   "cell_type": "code",
   "execution_count": 14,
   "id": "4c1e885c-2609-4f71-9b02-475ffd34d95b",
   "metadata": {},
   "outputs": [],
   "source": [
    "lipid = Parsing_Lipid(input_lipid)\n",
    "small_mol = Parsing_Small_Molecule(input_small_mol)"
   ]
  },
  {
   "cell_type": "markdown",
   "id": "08479eed-a6cb-4382-abb6-fd324186220c",
   "metadata": {},
   "source": [
    "## We then generate a file named 'mass_dis_in_samples.txt'"
   ]
  },
  {
   "cell_type": "code",
   "execution_count": 16,
   "id": "245bf887-2130-4dda-8c75-bba0f202c94f",
   "metadata": {},
   "outputs": [
    {
     "data": {
      "text/plain": [
       "0"
      ]
     },
     "execution_count": 16,
     "metadata": {},
     "output_type": "execute_result"
    }
   ],
   "source": [
    "output_sample_mass = 'mass_dis_in_samples.txt'\n",
    "Print_Mass_Diff_By_Samples(sample_mass, output_sample_mass)"
   ]
  },
  {
   "cell_type": "markdown",
   "id": "c87c3652-7c88-44d7-8a6c-02d69142d2c9",
   "metadata": {},
   "source": [
    "## We next utilize kde to cluster all m/z"
   ]
  },
  {
   "cell_type": "code",
   "execution_count": 18,
   "id": "0478e53c-4bc3-4258-99df-faa638d7bfa9",
   "metadata": {},
   "outputs": [],
   "source": [
    "mass_index_group = Group_Mass(mass, lipid, small_mol, mass_cutoff)\n",
    "mass_clustered = Clustering_Mass_by_KDE(mass_index_group, lipid, small_mol, mass_cutoff)"
   ]
  },
  {
   "cell_type": "markdown",
   "id": "10dde088-300a-4027-a6d8-58e7d25997f5",
   "metadata": {},
   "source": [
    "## Finally we can generate the file 'colon_cancer_desi_.clustered_mass.table.with.anno.txt' that recoded the annotation information for all m/z across all samples"
   ]
  },
  {
   "cell_type": "code",
   "execution_count": 20,
   "id": "1957bf36-eb5f-4ea8-b69d-56152c25308e",
   "metadata": {},
   "outputs": [
    {
     "data": {
      "text/plain": [
       "0"
      ]
     },
     "execution_count": 20,
     "metadata": {},
     "output_type": "execute_result"
    }
   ],
   "source": [
    "Print_Clustered_Mass_By_Sample(mass_clustered, mass_sample, lipid, small_mol, output_prefix)"
   ]
  },
  {
   "cell_type": "markdown",
   "id": "1746993a-ca21-4f78-abd3-7689859d82c8",
   "metadata": {},
   "source": [
    "## Each row represents an LC-MS annotated metabolite, each column represents a sample, and each cell indicates whether an m/z value in that sample has been annotated as the corresponding metabolite. If it has, the cell value is the m/z for that sample; if not, the cell value is NaN."
   ]
  },
  {
   "cell_type": "code",
   "execution_count": 22,
   "id": "8a3b52fe-be12-40af-9f97-69b3e1f805d4",
   "metadata": {},
   "outputs": [],
   "source": [
    "df = pd.read_csv('colon_cancer_desi_.clustered_mass.table.with.anno.txt', index_col=0, sep='\\t')"
   ]
  },
  {
   "cell_type": "code",
   "execution_count": 23,
   "id": "5ca2edf7-ed9e-49e1-a61f-7465e0807faf",
   "metadata": {},
   "outputs": [
    {
     "data": {
      "text/html": [
       "<div>\n",
       "<style scoped>\n",
       "    .dataframe tbody tr th:only-of-type {\n",
       "        vertical-align: middle;\n",
       "    }\n",
       "\n",
       "    .dataframe tbody tr th {\n",
       "        vertical-align: top;\n",
       "    }\n",
       "\n",
       "    .dataframe thead th {\n",
       "        text-align: right;\n",
       "    }\n",
       "</style>\n",
       "<table border=\"1\" class=\"dataframe\">\n",
       "  <thead>\n",
       "    <tr style=\"text-align: right;\">\n",
       "      <th></th>\n",
       "      <th>ST06_20210716</th>\n",
       "      <th>ST06_20211019</th>\n",
       "      <th>ST08_20211019</th>\n",
       "      <th>ST103_20210718</th>\n",
       "      <th>ST109_20210330</th>\n",
       "      <th>ST114_20210730</th>\n",
       "      <th>ST118_20211222</th>\n",
       "      <th>ST121_20210806</th>\n",
       "      <th>ST124_20211223</th>\n",
       "      <th>ST129_20201210</th>\n",
       "      <th>...</th>\n",
       "      <th>ST73_20210728_mass</th>\n",
       "      <th>ST73_20210729_mass</th>\n",
       "      <th>ST84_20211223_mass</th>\n",
       "      <th>ST87_20210331_mass</th>\n",
       "      <th>ST88_20210331_mass</th>\n",
       "      <th>ST91_20210406_mass</th>\n",
       "      <th>ST98_20210715_mass</th>\n",
       "      <th>ST98_20210804_mass</th>\n",
       "      <th>anno_lipid</th>\n",
       "      <th>anno_small_mol</th>\n",
       "    </tr>\n",
       "    <tr>\n",
       "      <th>Index</th>\n",
       "      <th></th>\n",
       "      <th></th>\n",
       "      <th></th>\n",
       "      <th></th>\n",
       "      <th></th>\n",
       "      <th></th>\n",
       "      <th></th>\n",
       "      <th></th>\n",
       "      <th></th>\n",
       "      <th></th>\n",
       "      <th></th>\n",
       "      <th></th>\n",
       "      <th></th>\n",
       "      <th></th>\n",
       "      <th></th>\n",
       "      <th></th>\n",
       "      <th></th>\n",
       "      <th></th>\n",
       "      <th></th>\n",
       "      <th></th>\n",
       "      <th></th>\n",
       "    </tr>\n",
       "  </thead>\n",
       "  <tbody>\n",
       "    <tr>\n",
       "      <th>1</th>\n",
       "      <td>0</td>\n",
       "      <td>0</td>\n",
       "      <td>0</td>\n",
       "      <td>0</td>\n",
       "      <td>0</td>\n",
       "      <td>0</td>\n",
       "      <td>0</td>\n",
       "      <td>0</td>\n",
       "      <td>0</td>\n",
       "      <td>0</td>\n",
       "      <td>...</td>\n",
       "      <td>NaN</td>\n",
       "      <td>NaN</td>\n",
       "      <td>NaN</td>\n",
       "      <td>NaN</td>\n",
       "      <td>NaN</td>\n",
       "      <td>NaN</td>\n",
       "      <td>NaN</td>\n",
       "      <td>NaN</td>\n",
       "      <td>NaN</td>\n",
       "      <td>71.0133;C3 H4 O2;H;Acrylic acid</td>\n",
       "    </tr>\n",
       "    <tr>\n",
       "      <th>2</th>\n",
       "      <td>0</td>\n",
       "      <td>0</td>\n",
       "      <td>0</td>\n",
       "      <td>0</td>\n",
       "      <td>0</td>\n",
       "      <td>0</td>\n",
       "      <td>0</td>\n",
       "      <td>0</td>\n",
       "      <td>0</td>\n",
       "      <td>0</td>\n",
       "      <td>...</td>\n",
       "      <td>NaN</td>\n",
       "      <td>NaN</td>\n",
       "      <td>NaN</td>\n",
       "      <td>NaN</td>\n",
       "      <td>NaN</td>\n",
       "      <td>NaN</td>\n",
       "      <td>NaN</td>\n",
       "      <td>NaN</td>\n",
       "      <td>NaN</td>\n",
       "      <td>74.02421;C2 H5 N O2;H;Glycine</td>\n",
       "    </tr>\n",
       "    <tr>\n",
       "      <th>3</th>\n",
       "      <td>0</td>\n",
       "      <td>0</td>\n",
       "      <td>0</td>\n",
       "      <td>0</td>\n",
       "      <td>0</td>\n",
       "      <td>0</td>\n",
       "      <td>0</td>\n",
       "      <td>0</td>\n",
       "      <td>0</td>\n",
       "      <td>1</td>\n",
       "      <td>...</td>\n",
       "      <td>NaN</td>\n",
       "      <td>NaN</td>\n",
       "      <td>NaN</td>\n",
       "      <td>NaN</td>\n",
       "      <td>NaN</td>\n",
       "      <td>NaN</td>\n",
       "      <td>NaN</td>\n",
       "      <td>NaN</td>\n",
       "      <td>NaN</td>\n",
       "      <td>78.91830999999999;H Br;H;Hydrogen bromide</td>\n",
       "    </tr>\n",
       "    <tr>\n",
       "      <th>4</th>\n",
       "      <td>0</td>\n",
       "      <td>0</td>\n",
       "      <td>0</td>\n",
       "      <td>0</td>\n",
       "      <td>0</td>\n",
       "      <td>0</td>\n",
       "      <td>0</td>\n",
       "      <td>0</td>\n",
       "      <td>0</td>\n",
       "      <td>0</td>\n",
       "      <td>...</td>\n",
       "      <td>NaN</td>\n",
       "      <td>NaN</td>\n",
       "      <td>NaN</td>\n",
       "      <td>NaN</td>\n",
       "      <td>NaN</td>\n",
       "      <td>NaN</td>\n",
       "      <td>NaN</td>\n",
       "      <td>NaN</td>\n",
       "      <td>NaN</td>\n",
       "      <td>79.95662999999999;None;H;None</td>\n",
       "    </tr>\n",
       "    <tr>\n",
       "      <th>5</th>\n",
       "      <td>0</td>\n",
       "      <td>0</td>\n",
       "      <td>0</td>\n",
       "      <td>0</td>\n",
       "      <td>0</td>\n",
       "      <td>0</td>\n",
       "      <td>0</td>\n",
       "      <td>0</td>\n",
       "      <td>0</td>\n",
       "      <td>0</td>\n",
       "      <td>...</td>\n",
       "      <td>NaN</td>\n",
       "      <td>NaN</td>\n",
       "      <td>NaN</td>\n",
       "      <td>NaN</td>\n",
       "      <td>NaN</td>\n",
       "      <td>NaN</td>\n",
       "      <td>NaN</td>\n",
       "      <td>NaN</td>\n",
       "      <td>NaN</td>\n",
       "      <td>NaN</td>\n",
       "    </tr>\n",
       "  </tbody>\n",
       "</table>\n",
       "<p>5 rows × 66 columns</p>\n",
       "</div>"
      ],
      "text/plain": [
       "       ST06_20210716  ST06_20211019  ST08_20211019  ST103_20210718  \\\n",
       "Index                                                                \n",
       "1                  0              0              0               0   \n",
       "2                  0              0              0               0   \n",
       "3                  0              0              0               0   \n",
       "4                  0              0              0               0   \n",
       "5                  0              0              0               0   \n",
       "\n",
       "       ST109_20210330  ST114_20210730  ST118_20211222  ST121_20210806  \\\n",
       "Index                                                                   \n",
       "1                   0               0               0               0   \n",
       "2                   0               0               0               0   \n",
       "3                   0               0               0               0   \n",
       "4                   0               0               0               0   \n",
       "5                   0               0               0               0   \n",
       "\n",
       "       ST124_20211223  ST129_20201210  ...  ST73_20210728_mass  \\\n",
       "Index                                  ...                       \n",
       "1                   0               0  ...                 NaN   \n",
       "2                   0               0  ...                 NaN   \n",
       "3                   0               1  ...                 NaN   \n",
       "4                   0               0  ...                 NaN   \n",
       "5                   0               0  ...                 NaN   \n",
       "\n",
       "       ST73_20210729_mass  ST84_20211223_mass  ST87_20210331_mass  \\\n",
       "Index                                                               \n",
       "1                     NaN                 NaN                 NaN   \n",
       "2                     NaN                 NaN                 NaN   \n",
       "3                     NaN                 NaN                 NaN   \n",
       "4                     NaN                 NaN                 NaN   \n",
       "5                     NaN                 NaN                 NaN   \n",
       "\n",
       "       ST88_20210331_mass  ST91_20210406_mass  ST98_20210715_mass  \\\n",
       "Index                                                               \n",
       "1                     NaN                 NaN                 NaN   \n",
       "2                     NaN                 NaN                 NaN   \n",
       "3                     NaN                 NaN                 NaN   \n",
       "4                     NaN                 NaN                 NaN   \n",
       "5                     NaN                 NaN                 NaN   \n",
       "\n",
       "       ST98_20210804_mass  anno_lipid  \\\n",
       "Index                                   \n",
       "1                     NaN         NaN   \n",
       "2                     NaN         NaN   \n",
       "3                     NaN         NaN   \n",
       "4                     NaN         NaN   \n",
       "5                     NaN         NaN   \n",
       "\n",
       "                                  anno_small_mol  \n",
       "Index                                             \n",
       "1                71.0133;C3 H4 O2;H;Acrylic acid  \n",
       "2                  74.02421;C2 H5 N O2;H;Glycine  \n",
       "3      78.91830999999999;H Br;H;Hydrogen bromide  \n",
       "4                  79.95662999999999;None;H;None  \n",
       "5                                            NaN  \n",
       "\n",
       "[5 rows x 66 columns]"
      ]
     },
     "execution_count": 23,
     "metadata": {},
     "output_type": "execute_result"
    }
   ],
   "source": [
    "df.head()"
   ]
  },
  {
   "cell_type": "code",
   "execution_count": null,
   "id": "65ba81f3-d0f3-4886-9449-3d4fe6db6793",
   "metadata": {},
   "outputs": [],
   "source": []
  }
 ],
 "metadata": {
  "kernelspec": {
   "display_name": "Python (Continued_env)",
   "language": "python",
   "name": "continued_env"
  },
  "language_info": {
   "codemirror_mode": {
    "name": "ipython",
    "version": 3
   },
   "file_extension": ".py",
   "mimetype": "text/x-python",
   "name": "python",
   "nbconvert_exporter": "python",
   "pygments_lexer": "ipython3",
   "version": "3.9.19"
  }
 },
 "nbformat": 4,
 "nbformat_minor": 5
}
